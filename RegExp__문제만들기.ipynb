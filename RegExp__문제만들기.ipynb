{
 "cells": [
  {
   "cell_type": "markdown",
   "metadata": {},
   "source": [
    "### Python 정규표현식 연습문제 제시하기\n",
    "\n",
    "#### 예시 답안은 하단에 기재되어있습니다."
   ]
  },
  {
   "cell_type": "markdown",
   "metadata": {},
   "source": [
    "#### 문제 1 : 신입사원 장그래는 암호해석의 업무를 맡았습니다. \n",
    "#### 암호를 해석하는 방법은 특수문자들을 모두 제외하고 한글,영어,숫자들만 순서대로 출력하는 것입니다. \n",
    "#### 다음과 같은 암호화데이터가 주어졌을때 해석을 하시오<br>\n",
    "- 조건에 부합하는 정규표현식을 만드시오\n",
    "- 아래와 같은 data가 주어졌을 때 문자와 숫자만을 출력하는 정규표현식을 완성하시오\n",
    "- data = 'Q.//est/%#@!%i$#@#%#&^*$on정#$%$#@%#!@@#%%#@!@#%*&%&*%답#%@!@%@%@#%@!%은^$$^#@&7$@#%@!@#%77'"
   ]
  },
  {
   "cell_type": "markdown",
   "metadata": {},
   "source": [
    "#### 문제 2 : 신입사원 장그래에게 회원들의 이메일리스트가 주어졌습니다. 이메일 주소를 규합하기 위해 아이디만을 수집하려고 합니다\n",
    "#### @뒤의 이메일 주소를 제외한 아이디만을 출력하는 정규표현식을 완성하시오<br>\n",
    "- email = ['asdf@naver.com', 'zdfwf@daum.net', 'kjklkl.@hanmail.net', 'lkjk32@gmail.com', 'vczc23@paran.com', '5212@yahoo.com']"
   ]
  },
  {
   "cell_type": "markdown",
   "metadata": {},
   "source": [
    "#### 문제 3 : 신입사원 장그래에게 회원들의 휴대전화목록이 주어졌습니다. (구)번호를 가진 사람들에게 번호변경 요청을 위한 안내 문자를 보내려고 합니다\n",
    "#### 010을 제외한 예전 앞번호를 가진 리스트들을 따로 출력하는 정규표현식을 완성하시오<br>\n",
    "- phone = ['010-2412-3521', '016-2341-3523', '019-5432-3232', '011-3521-6323', '070-2532-1432', '010-6543-1435', '019-3521-6434', '050-2532-6543']"
   ]
  },
  {
   "cell_type": "markdown",
   "metadata": {},
   "source": [
    "#### 문제 4 : 신입 개발자 펭수는 사수인 뽀로로에게서 회원가입 검증로직을 개발하라는 업무를 받았습니다. 다음은 검증 조건입니다.<br>\n",
    "- 유저가 회원가입을 할 때 ID는 **8 ~ 12자리**여야 합니다.\n",
    "- 영문 대소문자, 특수문자 그리고 숫자가 각각 **최소 1회씩은** 입력되어야 합니다.\n",
    "- 제한사항 : 검증로직을 **정규표현식을 이용하여** 개발해주세요."
   ]
  },
  {
   "cell_type": "code",
   "execution_count": 34,
   "metadata": {},
   "outputs": [
    {
     "name": "stdout",
     "output_type": "stream",
     "text": [
      "Encore!12님 환영합니다.\n"
     ]
    }
   ],
   "source": [
    "import re\n",
    "\n",
    "def verifyUserID(id):\n",
    "        ?\n"
   ]
  },
  {
   "cell_type": "markdown",
   "metadata": {},
   "source": [
    "#### 문제 5 : 온라인 게임 속 세상은 정말 재미있습니다. 모르는 사람들과 협력하여 승리를 하였을 때 벅찬 감동을 줍니다. 하지만 온라인 세상은 익명성 때문에 깨끗한 대화가 오가지 못할 수 있는데요. 깨끗한 게임 문화를 지향하기 위해 욕설을 하는 유저를 걸러내어 제재를 하고 싶습니다. 다음은 욕설검증로직 조건입니다. \n",
    "\n",
    "- 유저간의 오갔던 대화 데이터 chat이 주어집니다.\n",
    "- chat 데이터 내의 욕설을 찾아내어 해당 욕설을 한 유저를 출력합니다.\n",
    "- 첫 음절이 다음과 같으면 욕설로 간주합니다.\n",
    "    - \"시\", \"개\", \"병\""
   ]
  },
  {
   "cell_type": "code",
   "execution_count": 38,
   "metadata": {},
   "outputs": [],
   "source": [
    "chat = \"\"\"<펭수> : 뽀로로 대리님 리신 땅굴판듯 하니 사려주세요 \n",
    "<뽀로로> : ㄱㅊ 내가 이김 <게임 내 성우> : 적에게 처치당했습니다 \n",
    "<펭수> : 아니 시X 빼라고\"\"\""
   ]
  },
  {
   "cell_type": "code",
   "execution_count": 48,
   "metadata": {},
   "outputs": [],
   "source": [
    "def catchBadWord(data):\n",
    "        ?\n",
    "        \n",
    "catchBadWord(chat)"
   ]
  },
  {
   "cell_type": "markdown",
   "metadata": {},
   "source": [
    "#### 문제 6 : 한 주간의 매출액을 정산해야합니다. 그런데 어딘가 숫자가 누락이 되었는지 총 금액이 너무 적습니다. 문제가 된 요일을 찾아 다시 계산할 수 있도록 도와주세요. 조건사항은 다음과 같습니다.\n",
    "\n",
    "- 한 주간의 매출액이 담긴 리스트 week가 주어집니다.\n",
    "- week의 첫 인덱스는 일요일이며 일, 월, 화, 수..,토 까지입니다.\n",
    "- 정규표현식과 컴프리헨션을 사용하여 숫자가 하나 빠진 날짜를 찾아주세요."
   ]
  },
  {
   "cell_type": "code",
   "execution_count": 49,
   "metadata": {},
   "outputs": [
    {
     "name": "stdout",
     "output_type": "stream",
     "text": [
      "[['300000'], ['120000'], ['150000'], [], ['200000'], ['300000'], ['210000']]\n"
     ]
    }
   ],
   "source": [
    "week = [\"300000\", \"120000\", \"150000\", \"50000\", \"200000\", \"300000\", \"210000\"]\n",
    "\n",
    "def findWrongDay(week):\n",
    "    \n",
    "findWrongDay(week)"
   ]
  },
  {
   "cell_type": "markdown",
   "metadata": {},
   "source": [
    "### 문제 1 답안"
   ]
  },
  {
   "cell_type": "code",
   "execution_count": 3,
   "metadata": {},
   "outputs": [
    {
     "name": "stdout",
     "output_type": "stream",
     "text": [
      "Qestion정답은777\n"
     ]
    }
   ],
   "source": [
    "import re\n",
    "\n",
    "data = 'Q.//est/%#@!%i$#@#%#&^*$on정#$%$#@%#!@@#%%#@!@#%*&%&*%답#%@!@%@%@#%@!%은^$$^#@&7$@#%@!@#%77'\n",
    "result = re.sub('[^0-9a-zA-Zㄱ-힗]', '', data)\n",
    "\n",
    "print(result)"
   ]
  },
  {
   "cell_type": "markdown",
   "metadata": {},
   "source": [
    "### 문제 2 답안"
   ]
  },
  {
   "cell_type": "code",
   "execution_count": 4,
   "metadata": {},
   "outputs": [
    {
     "name": "stdout",
     "output_type": "stream",
     "text": [
      "asdf\n",
      "zdfwf\n",
      "kjklkl\n",
      "lkjk32\n",
      "vczc23\n",
      "5212\n"
     ]
    }
   ],
   "source": [
    "import re\n",
    "\n",
    "email = ['asdf@naver.com', 'zdfwf@daum.net', 'kjklkl@hanmail.net', 'lkjk32@gmail.com', 'vczc23@paran.com', '5212@yahoo.com']\n",
    "for result in email:\n",
    "    result = re.sub('@(\\w+)[.](\\w+)', '', result)\n",
    "    print(result)"
   ]
  },
  {
   "cell_type": "markdown",
   "metadata": {},
   "source": [
    "### 문제 3 답안 (연구)"
   ]
  },
  {
   "cell_type": "code",
   "execution_count": 33,
   "metadata": {},
   "outputs": [
    {
     "name": "stdout",
     "output_type": "stream",
     "text": [
      "[('2412', '-', '3521')]\n",
      "[('2341', '-', '3523')]\n",
      "[('5432', '-', '3232')]\n",
      "[('3521', '-', '6323')]\n",
      "[('0', '-', '2532')]\n",
      "[('6543', '-', '1435')]\n",
      "[('3521', '-', '6434')]\n",
      "[('0', '-', '2532')]\n"
     ]
    }
   ],
   "source": [
    "import re\n",
    "\n",
    "phone = ['010-2412-3521', '016-2341-3523', '019-5432-3232', '011-3521-6323', '070-2532-1432', '010-6543-1435', '019-3521-6434', '050-2532-6543']\n",
    "for result in phone:\n",
    "    result = re.findall('[^010](\\d+)(\\D)(\\d+)', result)\n",
    "    print(result)"
   ]
  },
  {
   "cell_type": "markdown",
   "metadata": {},
   "source": [
    "### 문제 4 답안\n"
   ]
  },
  {
   "cell_type": "code",
   "execution_count": 46,
   "metadata": {},
   "outputs": [
    {
     "name": "stdout",
     "output_type": "stream",
     "text": [
      "Encore!12님 환영합니다.\n"
     ]
    }
   ],
   "source": [
    "import re\n",
    "\n",
    "def verifyUserID(id):\n",
    "    pattern = re.compile(\"^[\\w\\W]{8,12}\")\n",
    "    if len(re.findall(\"[\\w]\", id)) == 0 or len(re.findall(\"[\\W]\", id)) == 0:\n",
    "        raise ValueError(f\"id 입력 조건에 맞게 작성해주세요.\")    \n",
    "    \n",
    "    elif pattern.match(id) :\n",
    "        print(id + \"님 환영합니다.\")\n",
    "    \n",
    "verifyUserID(\"Encore!12\") # 정상실행\n",
    "#verifyUserID(\"encore12\") # 오류\n",
    "#verifyUserID(\"eeeeeeeee\") # 오류"
   ]
  },
  {
   "cell_type": "markdown",
   "metadata": {},
   "source": [
    "### 문제 5답안"
   ]
  },
  {
   "cell_type": "code",
   "execution_count": 50,
   "metadata": {},
   "outputs": [
    {
     "name": "stdout",
     "output_type": "stream",
     "text": [
      "<펭수> \n"
     ]
    }
   ],
   "source": [
    "def catchBadWord(data):\n",
    "    if re.search(\"[^시^개^병](\\w+)\",data):\n",
    "        result = re.search(\".+(?=:)\",data)\n",
    "        print(result.group())\n",
    "\n",
    "catchBadWord(chat)"
   ]
  },
  {
   "cell_type": "markdown",
   "metadata": {},
   "source": [
    "### 문제 6 답안"
   ]
  },
  {
   "cell_type": "code",
   "execution_count": null,
   "metadata": {},
   "outputs": [],
   "source": [
    "week = [\"300000\", \"120000\", \"150000\", \"50000\", \"200000\", \"300000\", \"210000\"]\n",
    "\n",
    "def findWrongDay(week):\n",
    "    wrongDay = [re.findall(\"\\d{6}\", day) for day in week]\n",
    "    \n",
    "findWrongDay(week)"
   ]
  }
 ],
 "metadata": {
  "kernelspec": {
   "display_name": "Python 3",
   "language": "python",
   "name": "python3"
  },
  "language_info": {
   "codemirror_mode": {
    "name": "ipython",
    "version": 3
   },
   "file_extension": ".py",
   "mimetype": "text/x-python",
   "name": "python",
   "nbconvert_exporter": "python",
   "pygments_lexer": "ipython3",
   "version": "3.7.4"
  }
 },
 "nbformat": 4,
 "nbformat_minor": 2
}
