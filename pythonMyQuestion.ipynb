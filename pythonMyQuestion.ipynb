{
 "cells": [
  {
   "cell_type": "markdown",
   "metadata": {},
   "source": [
    "### 문제 1\n",
    "    - 수능 언어, 외국어, 수리영역의 점수가 아래와 같은 학생의 평균 점수를 구하시오 (for문 사용)\n",
    "    - 언어:50, 외국어:80, 수리:90점 "
   ]
  },
  {
   "cell_type": "markdown",
   "metadata": {},
   "source": [
    "### 문제 2\n",
    "    - 자신의 수능점수를 입력하면 등급을 계산해주는 함수를 만드시오 \n",
    "    - 90점 이상은 1등급, 80점이상은 2등급, 70점이상은 3등급, 나머지 점수는 등급측정불가"
   ]
  },
  {
   "cell_type": "markdown",
   "metadata": {},
   "source": [
    "### 문제 3\n",
    "    - 아래와 같이 번호와 이름이 주어졌을때 번호를 입력하면 해당하는 이름을 찾아주는 함수를 만드시오\n",
    "    - name = {1 : \"이현준\" , 2 : \"송시찬\", 3 : \"김진휘\", 4 : \"박현민\"}"
   ]
  },
  {
   "cell_type": "markdown",
   "metadata": {},
   "source": [
    "### 문제 4\n",
    "    - 금일은 대학수학능력시험이 있는 날입니다. 수리영역을 응시한 우석이의 정답이 적힌 OMR 카드 리스트가 주어지고,\n",
    "      실제 정답이 적힌 answer 리스트가 주어질 때, 우석이의 점수 score를 return 해주세요.\n",
    "      (참고 : 총 20문제이며, 각 문제당 5점 배점입니다.)\n",
    "        \n",
    "        omr = [2, 3, 4, 1, 3, 3, 3, 1, 4, 5, 2, 5, 2, 1, 1, 4, 2, 2, 3, 1]\n",
    "        anwser = [2, 3, 4, 1, 3, 1, 1, 1, 5, 5, 2, 1, 2, 1, 4, 4, 1, 2, 3, 1]\n",
    "        score = ?"
   ]
  },
  {
   "cell_type": "markdown",
   "metadata": {},
   "source": [
    "### 문제 5\n",
    "    - 우석이의 수리영역 점수가 나왔습니다. 우석이는 대학진학을 위해 원서접수를 해야하는 상황입니다. 수리영역 점수에 맞춰\n",
    "    우석이가 갈 수 있는 학교를 알고 싶은 상황입니다. 각 학교들의 데이터가 {key : \"대학명\", value : 수리영역 점수} 이런식으로\n",
    "    주어지고 위 문제의 점수 score가 주어졌을 때, 우석이는 자신의 score가 학교의 점수보다 이상일 때, 지원할 수 있습니다.\n",
    "    우석이의 score에 맞는 학교명들을 university 리스트에 반환받아 university를 출력해주세요.\n",
    "    \n",
    "       score = 70\n",
    "       data = {\"서울대학교\" : 100, \"연세대학교\" : 90, \"고려대학교\" : 85, \"군대\" : 40, \"숭실대학교\" : 70, \"한국외국어대학교\" : 75}\n",
    "       university = []"
   ]
  },
  {
   "cell_type": "markdown",
   "metadata": {},
   "source": [
    "### 문제 6\n",
    "    - 대학에 진학한 우석이는 신입생환영회에 참석하게 되었습니다. 자신이 주당이라고 허언을 해버린 우석이는 소주 두잔에\n",
    "    취해버렸습니다. 취하면 \"안취했어\" 라고 거짓말을 하는 술버릇을 지닌 우석이의 10초 대화가 담긴 문자열 dialogue가 주어질 때,\n",
    "    우석이의 \"안취했어\"가 몇 번이나 나왔는지 세어 출력해주세요.\n",
    "    \n",
    "    dialogue = \"아 취한다 아 아니 안취한다 안취했어 안 꺾어마셨어 안취했어 남자가 가오가 있지 아 당연히 안취했어\"\n",
    "    cntWord = ?"
   ]
  },
  {
   "cell_type": "code",
   "execution_count": null,
   "metadata": {},
   "outputs": [],
   "source": []
  }
 ],
 "metadata": {
  "kernelspec": {
   "display_name": "Python 3",
   "language": "python",
   "name": "python3"
  },
  "language_info": {
   "codemirror_mode": {
    "name": "ipython",
    "version": 3
   },
   "file_extension": ".py",
   "mimetype": "text/x-python",
   "name": "python",
   "nbconvert_exporter": "python",
   "pygments_lexer": "ipython3",
   "version": "3.7.4"
  }
 },
 "nbformat": 4,
 "nbformat_minor": 2
}
