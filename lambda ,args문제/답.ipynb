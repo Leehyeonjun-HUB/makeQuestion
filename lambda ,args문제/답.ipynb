{
 "cells": [
  {
   "cell_type": "markdown",
   "metadata": {},
   "source": [
    "## 임의의 argument을 받아서 출력하는 함수를 개발하시오\n",
    "### 출력 요구사항 \n",
    "- 시 : 서울\n",
    "- 지역 : 봉천\n",
    "- 지역 : 서초\n",
    "- 지역 : 강남\n",
    "- 지역 : 노원"
   ]
  },
  {
   "cell_type": "code",
   "execution_count": 2,
   "metadata": {},
   "outputs": [
    {
     "name": "stdout",
     "output_type": "stream",
     "text": [
      "시 : 서울\n",
      "지역 : 봉천\n",
      "지역 : 서초\n",
      "지역 : 강남\n",
      "지역 : 노원\n"
     ]
    }
   ],
   "source": [
    "def getName(country, *loc):\n",
    "    print(\"시 : \"+country)\n",
    "    for v in loc :\n",
    "        print(\"지역 : \"+v)\n",
    "getName('서울', '봉천', '서초', '강남', '노원')\n",
    "    "
   ]
  },
  {
   "cell_type": "markdown",
   "metadata": {},
   "source": [
    "## 랜덤함수를 사용하여 1~500까지 숫자 중에서 랜덤으로 100개를 리스트에 담은 후 람다식을 활용하여 최댓값을 구하시오"
   ]
  },
  {
   "cell_type": "code",
   "execution_count": 4,
   "metadata": {},
   "outputs": [
    {
     "data": {
      "text/plain": [
       "499"
      ]
     },
     "execution_count": 4,
     "metadata": {},
     "output_type": "execute_result"
    }
   ],
   "source": [
    "from functools import reduce\n",
    "import random\n",
    "\n",
    "data = random.sample(range(1, 501), 100)\n",
    "reduce(lambda x, y : x if x > y else y ,data)"
   ]
  },
  {
   "cell_type": "code",
   "execution_count": null,
   "metadata": {},
   "outputs": [],
   "source": []
  }
 ],
 "metadata": {
  "kernelspec": {
   "display_name": "Python 3",
   "language": "python",
   "name": "python3"
  },
  "language_info": {
   "codemirror_mode": {
    "name": "ipython",
    "version": 3
   },
   "file_extension": ".py",
   "mimetype": "text/x-python",
   "name": "python",
   "nbconvert_exporter": "python",
   "pygments_lexer": "ipython3",
   "version": "3.7.4"
  }
 },
 "nbformat": 4,
 "nbformat_minor": 2
}
