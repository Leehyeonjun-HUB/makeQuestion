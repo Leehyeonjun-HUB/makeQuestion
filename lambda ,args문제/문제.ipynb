{
 "cells": [
  {
   "cell_type": "markdown",
   "metadata": {},
   "source": [
    "## 임의의 argument을 받아서 출력하는 함수를 개발하시오\n",
    "### 출력 요구사항 \n",
    "- 시 : 서울\n",
    "- 지역 : 봉천\n",
    "- 지역 : 서초\n",
    "- 지역 : 강남\n",
    "- 지역 : 노원"
   ]
  },
  {
   "cell_type": "markdown",
   "metadata": {},
   "source": [
    "## 랜덤함수를 사용하여 1~500까지 숫자 중에서 랜덤으로 100개를 리스트에 담은 후 람다식을 활용하여 최댓값을 구하시오"
   ]
  }
 ],
 "metadata": {
  "kernelspec": {
   "display_name": "Python 3",
   "language": "python",
   "name": "python3"
  },
  "language_info": {
   "codemirror_mode": {
    "name": "ipython",
    "version": 3
   },
   "file_extension": ".py",
   "mimetype": "text/x-python",
   "name": "python",
   "nbconvert_exporter": "python",
   "pygments_lexer": "ipython3",
   "version": "3.7.4"
  }
 },
 "nbformat": 4,
 "nbformat_minor": 2
}
